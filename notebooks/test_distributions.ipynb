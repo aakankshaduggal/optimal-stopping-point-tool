{
 "cells": [
  {
   "cell_type": "markdown",
   "id": "dcf594ab-1dda-4f56-959c-265e069f75de",
   "metadata": {},
   "source": [
    "## Fit distributions on Tests Data"
   ]
  },
  {
   "cell_type": "code",
   "execution_count": 1,
   "id": "bf608b52-fcb7-4fd2-9eee-95b373d2022f",
   "metadata": {},
   "outputs": [],
   "source": [
    "## Import libraries\n",
    "import os\n",
    "import gzip\n",
    "import json\n",
    "import datetime\n",
    "import itertools\n",
    "import pandas as pd\n",
    "import numpy as np\n",
    "\n",
    "import warnings\n",
    "\n",
    "warnings.filterwarnings(\"ignore\")\n",
    "import seaborn as sns\n",
    "from fitter import Fitter, get_common_distributions, get_distributions"
   ]
  },
  {
   "cell_type": "markdown",
   "id": "28448538-e882-408c-b89f-1e3b144c13d2",
   "metadata": {},
   "source": [
    "## Import dataframe"
   ]
  },
  {
   "cell_type": "code",
   "execution_count": 2,
   "id": "e52cd43a-cfbd-472d-a9cc-2e170d87211a",
   "metadata": {},
   "outputs": [],
   "source": [
    "passing_df = pd.read_csv('../data/processed/passing_test.csv')\n",
    "failing_df = pd.read_csv('../data/processed/failures_test.csv')"
   ]
  },
  {
   "cell_type": "code",
   "execution_count": 3,
   "id": "3096433d-c3d5-4583-85be-15138d2936a7",
   "metadata": {},
   "outputs": [
    {
     "data": {
      "text/html": [
       "<div>\n",
       "<style scoped>\n",
       "    .dataframe tbody tr th:only-of-type {\n",
       "        vertical-align: middle;\n",
       "    }\n",
       "\n",
       "    .dataframe tbody tr th {\n",
       "        vertical-align: top;\n",
       "    }\n",
       "\n",
       "    .dataframe thead th {\n",
       "        text-align: right;\n",
       "    }\n",
       "</style>\n",
       "<table border=\"1\" class=\"dataframe\">\n",
       "  <thead>\n",
       "    <tr style=\"text-align: right;\">\n",
       "      <th></th>\n",
       "      <th>created_at</th>\n",
       "      <th>updated_at</th>\n",
       "      <th>id</th>\n",
       "      <th>status</th>\n",
       "      <th>conclusion</th>\n",
       "      <th>run_duration</th>\n",
       "      <th>test</th>\n",
       "    </tr>\n",
       "  </thead>\n",
       "  <tbody>\n",
       "    <tr>\n",
       "      <th>0</th>\n",
       "      <td>2023-03-02T18:04:52Z</td>\n",
       "      <td>2023-03-02T18:05:21Z</td>\n",
       "      <td>4316905413</td>\n",
       "      <td>completed</td>\n",
       "      <td>success</td>\n",
       "      <td>29.0</td>\n",
       "      <td>28698040</td>\n",
       "    </tr>\n",
       "    <tr>\n",
       "      <th>1</th>\n",
       "      <td>2023-02-28T22:46:09Z</td>\n",
       "      <td>2023-02-28T22:46:39Z</td>\n",
       "      <td>4298089675</td>\n",
       "      <td>completed</td>\n",
       "      <td>success</td>\n",
       "      <td>30.0</td>\n",
       "      <td>28698040</td>\n",
       "    </tr>\n",
       "    <tr>\n",
       "      <th>2</th>\n",
       "      <td>2023-02-28T22:21:25Z</td>\n",
       "      <td>2023-02-28T22:21:46Z</td>\n",
       "      <td>4297918764</td>\n",
       "      <td>completed</td>\n",
       "      <td>success</td>\n",
       "      <td>21.0</td>\n",
       "      <td>28698040</td>\n",
       "    </tr>\n",
       "    <tr>\n",
       "      <th>3</th>\n",
       "      <td>2023-02-22T23:15:44Z</td>\n",
       "      <td>2023-02-22T23:16:07Z</td>\n",
       "      <td>4247826657</td>\n",
       "      <td>completed</td>\n",
       "      <td>success</td>\n",
       "      <td>23.0</td>\n",
       "      <td>28698040</td>\n",
       "    </tr>\n",
       "    <tr>\n",
       "      <th>4</th>\n",
       "      <td>2023-02-22T18:27:33Z</td>\n",
       "      <td>2023-02-22T18:28:00Z</td>\n",
       "      <td>4245797712</td>\n",
       "      <td>completed</td>\n",
       "      <td>success</td>\n",
       "      <td>27.0</td>\n",
       "      <td>28698040</td>\n",
       "    </tr>\n",
       "  </tbody>\n",
       "</table>\n",
       "</div>"
      ],
      "text/plain": [
       "             created_at            updated_at          id     status  \\\n",
       "0  2023-03-02T18:04:52Z  2023-03-02T18:05:21Z  4316905413  completed   \n",
       "1  2023-02-28T22:46:09Z  2023-02-28T22:46:39Z  4298089675  completed   \n",
       "2  2023-02-28T22:21:25Z  2023-02-28T22:21:46Z  4297918764  completed   \n",
       "3  2023-02-22T23:15:44Z  2023-02-22T23:16:07Z  4247826657  completed   \n",
       "4  2023-02-22T18:27:33Z  2023-02-22T18:28:00Z  4245797712  completed   \n",
       "\n",
       "  conclusion  run_duration      test  \n",
       "0    success          29.0  28698040  \n",
       "1    success          30.0  28698040  \n",
       "2    success          21.0  28698040  \n",
       "3    success          23.0  28698040  \n",
       "4    success          27.0  28698040  "
      ]
     },
     "execution_count": 3,
     "metadata": {},
     "output_type": "execute_result"
    }
   ],
   "source": [
    "passing_df.head()"
   ]
  },
  {
   "cell_type": "code",
   "execution_count": 4,
   "id": "ca3a6320-c1a4-4691-8541-7368ba71caeb",
   "metadata": {},
   "outputs": [
    {
     "data": {
      "text/html": [
       "<div>\n",
       "<style scoped>\n",
       "    .dataframe tbody tr th:only-of-type {\n",
       "        vertical-align: middle;\n",
       "    }\n",
       "\n",
       "    .dataframe tbody tr th {\n",
       "        vertical-align: top;\n",
       "    }\n",
       "\n",
       "    .dataframe thead th {\n",
       "        text-align: right;\n",
       "    }\n",
       "</style>\n",
       "<table border=\"1\" class=\"dataframe\">\n",
       "  <thead>\n",
       "    <tr style=\"text-align: right;\">\n",
       "      <th></th>\n",
       "      <th>created_at</th>\n",
       "      <th>updated_at</th>\n",
       "      <th>id</th>\n",
       "      <th>status</th>\n",
       "      <th>conclusion</th>\n",
       "      <th>run_duration</th>\n",
       "      <th>test</th>\n",
       "    </tr>\n",
       "  </thead>\n",
       "  <tbody>\n",
       "    <tr>\n",
       "      <th>0</th>\n",
       "      <td>2023-02-28T22:42:47Z</td>\n",
       "      <td>2023-02-28T22:43:10Z</td>\n",
       "      <td>4298071211</td>\n",
       "      <td>completed</td>\n",
       "      <td>failure</td>\n",
       "      <td>23.0</td>\n",
       "      <td>28698040</td>\n",
       "    </tr>\n",
       "    <tr>\n",
       "      <th>1</th>\n",
       "      <td>2023-02-16T22:26:12Z</td>\n",
       "      <td>2023-02-16T22:26:38Z</td>\n",
       "      <td>4198735841</td>\n",
       "      <td>completed</td>\n",
       "      <td>failure</td>\n",
       "      <td>26.0</td>\n",
       "      <td>28698040</td>\n",
       "    </tr>\n",
       "    <tr>\n",
       "      <th>2</th>\n",
       "      <td>2023-02-16T22:22:56Z</td>\n",
       "      <td>2023-02-16T22:23:17Z</td>\n",
       "      <td>4198715682</td>\n",
       "      <td>completed</td>\n",
       "      <td>failure</td>\n",
       "      <td>21.0</td>\n",
       "      <td>28698040</td>\n",
       "    </tr>\n",
       "    <tr>\n",
       "      <th>3</th>\n",
       "      <td>2023-02-16T16:13:58Z</td>\n",
       "      <td>2023-02-16T16:14:28Z</td>\n",
       "      <td>4195927857</td>\n",
       "      <td>completed</td>\n",
       "      <td>failure</td>\n",
       "      <td>30.0</td>\n",
       "      <td>28698040</td>\n",
       "    </tr>\n",
       "    <tr>\n",
       "      <th>4</th>\n",
       "      <td>2023-01-12T18:04:21Z</td>\n",
       "      <td>2023-01-12T18:04:59Z</td>\n",
       "      <td>3904825511</td>\n",
       "      <td>completed</td>\n",
       "      <td>failure</td>\n",
       "      <td>38.0</td>\n",
       "      <td>28698040</td>\n",
       "    </tr>\n",
       "  </tbody>\n",
       "</table>\n",
       "</div>"
      ],
      "text/plain": [
       "             created_at            updated_at          id     status  \\\n",
       "0  2023-02-28T22:42:47Z  2023-02-28T22:43:10Z  4298071211  completed   \n",
       "1  2023-02-16T22:26:12Z  2023-02-16T22:26:38Z  4198735841  completed   \n",
       "2  2023-02-16T22:22:56Z  2023-02-16T22:23:17Z  4198715682  completed   \n",
       "3  2023-02-16T16:13:58Z  2023-02-16T16:14:28Z  4195927857  completed   \n",
       "4  2023-01-12T18:04:21Z  2023-01-12T18:04:59Z  3904825511  completed   \n",
       "\n",
       "  conclusion  run_duration      test  \n",
       "0    failure          23.0  28698040  \n",
       "1    failure          26.0  28698040  \n",
       "2    failure          21.0  28698040  \n",
       "3    failure          30.0  28698040  \n",
       "4    failure          38.0  28698040  "
      ]
     },
     "execution_count": 4,
     "metadata": {},
     "output_type": "execute_result"
    }
   ],
   "source": [
    "failing_df.head()"
   ]
  },
  {
   "cell_type": "code",
   "execution_count": 5,
   "id": "3853ba65-59a3-47cb-b90d-9e1316de67cf",
   "metadata": {},
   "outputs": [
    {
     "data": {
      "text/plain": [
       "<seaborn.axisgrid.FacetGrid at 0x7ff8beab3b20>"
      ]
     },
     "execution_count": 5,
     "metadata": {},
     "output_type": "execute_result"
    },
    {
     "data": {
      "image/png": "[encoded data removed]",
      "text/plain": [
       "<Figure size 1080x360 with 1 Axes>"
      ]
     },
     "metadata": {
      "needs_background": "light"
     },
     "output_type": "display_data"
    }
   ],
   "source": [
    "# Distribution of values of run duration\n",
    "sns.set_style('white')\n",
    "sns.set_context(\"paper\", font_scale = 2)\n",
    "sns.displot(data=failing_df, x=\"run_duration\", kind=\"hist\", bins = 10, aspect = 3)"
   ]
  },
  {
   "cell_type": "code",
   "execution_count": 6,
   "id": "c29a2aed-3014-474a-8ed1-858f06c0222f",
   "metadata": {},
   "outputs": [],
   "source": [
    "# create a separate set of values for failing durations\n",
    "fail_run_duration = failing_df.run_duration.values"
   ]
  },
  {
   "cell_type": "code",
   "execution_count": 7,
   "id": "efb268d4-8d4d-4606-9aef-5305eaee266c",
   "metadata": {},
   "outputs": [
    {
     "name": "stderr",
     "output_type": "stream",
     "text": [
      "Fitting 10 distributions: 100%|██████████| 10/10 [00:00<00:00, 20.05it/s]\n"
     ]
    },
    {
     "data": {
      "text/html": [
       "<div>\n",
       "<style scoped>\n",
       "    .dataframe tbody tr th:only-of-type {\n",
       "        vertical-align: middle;\n",
       "    }\n",
       "\n",
       "    .dataframe tbody tr th {\n",
       "        vertical-align: top;\n",
       "    }\n",
       "\n",
       "    .dataframe thead th {\n",
       "        text-align: right;\n",
       "    }\n",
       "</style>\n",
       "<table border=\"1\" class=\"dataframe\">\n",
       "  <thead>\n",
       "    <tr style=\"text-align: right;\">\n",
       "      <th></th>\n",
       "      <th>sumsquare_error</th>\n",
       "      <th>aic</th>\n",
       "      <th>bic</th>\n",
       "      <th>kl_div</th>\n",
       "      <th>ks_statistic</th>\n",
       "      <th>ks_pvalue</th>\n",
       "    </tr>\n",
       "  </thead>\n",
       "  <tbody>\n",
       "    <tr>\n",
       "      <th>rayleigh</th>\n",
       "      <td>4.146611e-08</td>\n",
       "      <td>673.066162</td>\n",
       "      <td>-3268.340112</td>\n",
       "      <td>inf</td>\n",
       "      <td>0.610080</td>\n",
       "      <td>8.956203e-54</td>\n",
       "    </tr>\n",
       "    <tr>\n",
       "      <th>norm</th>\n",
       "      <td>6.975056e-08</td>\n",
       "      <td>637.379865</td>\n",
       "      <td>-3190.852818</td>\n",
       "      <td>inf</td>\n",
       "      <td>0.515954</td>\n",
       "      <td>2.241915e-37</td>\n",
       "    </tr>\n",
       "    <tr>\n",
       "      <th>chi2</th>\n",
       "      <td>1.216998e-07</td>\n",
       "      <td>251.710359</td>\n",
       "      <td>-3102.910759</td>\n",
       "      <td>inf</td>\n",
       "      <td>0.516081</td>\n",
       "      <td>2.142743e-37</td>\n",
       "    </tr>\n",
       "    <tr>\n",
       "      <th>exponpow</th>\n",
       "      <td>1.375913e-07</td>\n",
       "      <td>236.941674</td>\n",
       "      <td>-3084.623949</td>\n",
       "      <td>inf</td>\n",
       "      <td>0.572468</td>\n",
       "      <td>9.641635e-47</td>\n",
       "    </tr>\n",
       "    <tr>\n",
       "      <th>powerlaw</th>\n",
       "      <td>1.425179e-07</td>\n",
       "      <td>230.506325</td>\n",
       "      <td>-3079.382055</td>\n",
       "      <td>inf</td>\n",
       "      <td>0.506961</td>\n",
       "      <td>5.236382e-36</td>\n",
       "    </tr>\n",
       "  </tbody>\n",
       "</table>\n",
       "</div>"
      ],
      "text/plain": [
       "          sumsquare_error         aic          bic  kl_div  ks_statistic  \\\n",
       "rayleigh     4.146611e-08  673.066162 -3268.340112     inf      0.610080   \n",
       "norm         6.975056e-08  637.379865 -3190.852818     inf      0.515954   \n",
       "chi2         1.216998e-07  251.710359 -3102.910759     inf      0.516081   \n",
       "exponpow     1.375913e-07  236.941674 -3084.623949     inf      0.572468   \n",
       "powerlaw     1.425179e-07  230.506325 -3079.382055     inf      0.506961   \n",
       "\n",
       "             ks_pvalue  \n",
       "rayleigh  8.956203e-54  \n",
       "norm      2.241915e-37  \n",
       "chi2      2.142743e-37  \n",
       "exponpow  9.641635e-47  \n",
       "powerlaw  5.236382e-36  "
      ]
     },
     "execution_count": 7,
     "metadata": {},
     "output_type": "execute_result"
    },
    {
     "data": {
      "image/png": "[encoded data removed]",
      "text/plain": [
       "<Figure size 432x288 with 1 Axes>"
      ]
     },
     "metadata": {
      "needs_background": "light"
     },
     "output_type": "display_data"
    }
   ],
   "source": [
    "f = Fitter(fail_run_duration,\n",
    "           distributions=get_common_distributions(), bins =10)\n",
    "f.fit()\n",
    "f.summary()"
   ]
  },
  {
   "cell_type": "code",
   "execution_count": 8,
   "id": "a7cfd075-aeef-4fc2-a283-d05b05808ce3",
   "metadata": {},
   "outputs": [
    {
     "data": {
      "text/plain": [
       "{'rayleigh': {'loc': -1756.2617094293264, 'scale': 1896.3407192245306}}"
      ]
     },
     "execution_count": 8,
     "metadata": {},
     "output_type": "execute_result"
    }
   ],
   "source": [
    "# Find best failing distribution\n",
    "best_failing_dist = f.get_best(method = 'sumsquare_error')\n",
    "best_failing_dist"
   ]
  },
  {
   "cell_type": "code",
   "execution_count": 9,
   "id": "6bd573a2-6a1c-43ba-b9a5-044c541dd2bc",
   "metadata": {},
   "outputs": [
    {
     "name": "stderr",
     "output_type": "stream",
     "text": [
      "Fitting 1 distributions: 100%|██████████| 1/1 [00:00<00:00, 157.74it/s]\n"
     ]
    },
    {
     "data": {
      "text/html": [
       "<div>\n",
       "<style scoped>\n",
       "    .dataframe tbody tr th:only-of-type {\n",
       "        vertical-align: middle;\n",
       "    }\n",
       "\n",
       "    .dataframe tbody tr th {\n",
       "        vertical-align: top;\n",
       "    }\n",
       "\n",
       "    .dataframe thead th {\n",
       "        text-align: right;\n",
       "    }\n",
       "</style>\n",
       "<table border=\"1\" class=\"dataframe\">\n",
       "  <thead>\n",
       "    <tr style=\"text-align: right;\">\n",
       "      <th></th>\n",
       "      <th>sumsquare_error</th>\n",
       "      <th>aic</th>\n",
       "      <th>bic</th>\n",
       "      <th>kl_div</th>\n",
       "      <th>ks_statistic</th>\n",
       "      <th>ks_pvalue</th>\n",
       "    </tr>\n",
       "  </thead>\n",
       "  <tbody>\n",
       "    <tr>\n",
       "      <th>rayleigh</th>\n",
       "      <td>4.146611e-08</td>\n",
       "      <td>673.066162</td>\n",
       "      <td>-3268.340112</td>\n",
       "      <td>inf</td>\n",
       "      <td>0.61008</td>\n",
       "      <td>8.956203e-54</td>\n",
       "    </tr>\n",
       "  </tbody>\n",
       "</table>\n",
       "</div>"
      ],
      "text/plain": [
       "          sumsquare_error         aic          bic  kl_div  ks_statistic  \\\n",
       "rayleigh     4.146611e-08  673.066162 -3268.340112     inf       0.61008   \n",
       "\n",
       "             ks_pvalue  \n",
       "rayleigh  8.956203e-54  "
      ]
     },
     "execution_count": 9,
     "metadata": {},
     "output_type": "execute_result"
    },
    {
     "data": {
      "image/png": "[encoded data removed]",
      "text/plain": [
       "<Figure size 432x288 with 1 Axes>"
      ]
     },
     "metadata": {
      "needs_background": "light"
     },
     "output_type": "display_data"
    }
   ],
   "source": [
    "f = Fitter(fail_run_duration,\n",
    "           distributions=best_failing_dist, bins =10)\n",
    "f.fit()\n",
    "f.summary()"
   ]
  },
  {
   "cell_type": "code",
   "execution_count": 10,
   "id": "65b0b38a-b20f-4da1-a5a5-4c332b43026c",
   "metadata": {},
   "outputs": [],
   "source": [
    "f_dist = list(best_failing_dist.keys())[0]"
   ]
  },
  {
   "cell_type": "code",
   "execution_count": 11,
   "id": "ddc0361c-ee21-433e-a5f5-afb8c4e94e7f",
   "metadata": {},
   "outputs": [
    {
     "data": {
      "text/plain": [
       "(-1756.2617094293264, 1896.3407192245306)"
      ]
     },
     "execution_count": 11,
     "metadata": {},
     "output_type": "execute_result"
    }
   ],
   "source": [
    "# Calculate the parameters for the failing distribution curve\n",
    "f_params = f.fitted_param[f_dist]\n",
    "f_params"
   ]
  },
  {
   "cell_type": "code",
   "execution_count": 12,
   "id": "6169a4a8-1b5d-4a70-bcfe-e1005c2b6379",
   "metadata": {},
   "outputs": [],
   "source": [
    "# create a separate set of values for the passing run times.\n",
    "pass_run_duration = passing_df.run_duration.values"
   ]
  },
  {
   "cell_type": "code",
   "execution_count": 13,
   "id": "9fc9708d-730e-4cb7-b13f-f13aa2f9ffc0",
   "metadata": {},
   "outputs": [
    {
     "name": "stderr",
     "output_type": "stream",
     "text": [
      "Fitting 10 distributions: 100%|██████████| 10/10 [00:00<00:00, 19.78it/s]\n"
     ]
    },
    {
     "data": {
      "text/html": [
       "<div>\n",
       "<style scoped>\n",
       "    .dataframe tbody tr th:only-of-type {\n",
       "        vertical-align: middle;\n",
       "    }\n",
       "\n",
       "    .dataframe tbody tr th {\n",
       "        vertical-align: top;\n",
       "    }\n",
       "\n",
       "    .dataframe thead th {\n",
       "        text-align: right;\n",
       "    }\n",
       "</style>\n",
       "<table border=\"1\" class=\"dataframe\">\n",
       "  <thead>\n",
       "    <tr style=\"text-align: right;\">\n",
       "      <th></th>\n",
       "      <th>sumsquare_error</th>\n",
       "      <th>aic</th>\n",
       "      <th>bic</th>\n",
       "      <th>kl_div</th>\n",
       "      <th>ks_statistic</th>\n",
       "      <th>ks_pvalue</th>\n",
       "    </tr>\n",
       "  </thead>\n",
       "  <tbody>\n",
       "    <tr>\n",
       "      <th>lognorm</th>\n",
       "      <td>0.000411</td>\n",
       "      <td>96.773560</td>\n",
       "      <td>-1509.369992</td>\n",
       "      <td>0.085705</td>\n",
       "      <td>0.063716</td>\n",
       "      <td>0.685521</td>\n",
       "    </tr>\n",
       "    <tr>\n",
       "      <th>gamma</th>\n",
       "      <td>0.000499</td>\n",
       "      <td>95.782496</td>\n",
       "      <td>-1485.974772</td>\n",
       "      <td>0.089513</td>\n",
       "      <td>0.087165</td>\n",
       "      <td>0.299179</td>\n",
       "    </tr>\n",
       "    <tr>\n",
       "      <th>chi2</th>\n",
       "      <td>0.000499</td>\n",
       "      <td>95.782578</td>\n",
       "      <td>-1485.974709</td>\n",
       "      <td>0.089513</td>\n",
       "      <td>0.087166</td>\n",
       "      <td>0.299170</td>\n",
       "    </tr>\n",
       "    <tr>\n",
       "      <th>rayleigh</th>\n",
       "      <td>0.000625</td>\n",
       "      <td>96.497103</td>\n",
       "      <td>-1463.350072</td>\n",
       "      <td>0.149985</td>\n",
       "      <td>0.114928</td>\n",
       "      <td>0.075489</td>\n",
       "    </tr>\n",
       "    <tr>\n",
       "      <th>exponpow</th>\n",
       "      <td>0.000973</td>\n",
       "      <td>94.878291</td>\n",
       "      <td>-1404.993485</td>\n",
       "      <td>0.128042</td>\n",
       "      <td>0.145748</td>\n",
       "      <td>0.010460</td>\n",
       "    </tr>\n",
       "  </tbody>\n",
       "</table>\n",
       "</div>"
      ],
      "text/plain": [
       "          sumsquare_error        aic          bic    kl_div  ks_statistic  \\\n",
       "lognorm          0.000411  96.773560 -1509.369992  0.085705      0.063716   \n",
       "gamma            0.000499  95.782496 -1485.974772  0.089513      0.087165   \n",
       "chi2             0.000499  95.782578 -1485.974709  0.089513      0.087166   \n",
       "rayleigh         0.000625  96.497103 -1463.350072  0.149985      0.114928   \n",
       "exponpow         0.000973  94.878291 -1404.993485  0.128042      0.145748   \n",
       "\n",
       "          ks_pvalue  \n",
       "lognorm    0.685521  \n",
       "gamma      0.299179  \n",
       "chi2       0.299170  \n",
       "rayleigh   0.075489  \n",
       "exponpow   0.010460  "
      ]
     },
     "execution_count": 13,
     "metadata": {},
     "output_type": "execute_result"
    },
    {
     "data": {
      "image/png": "[encoded data removed]",
      "text/plain": [
       "<Figure size 432x288 with 1 Axes>"
      ]
     },
     "metadata": {
      "needs_background": "light"
     },
     "output_type": "display_data"
    }
   ],
   "source": [
    "p = Fitter(pass_run_duration,\n",
    "           distributions=get_common_distributions(), bins =10)\n",
    "p.fit()\n",
    "p.summary()"
   ]
  },
  {
   "cell_type": "code",
   "execution_count": 14,
   "id": "a3360ff3-eebc-47e9-9596-a2ce46d7cba7",
   "metadata": {},
   "outputs": [
    {
     "data": {
      "text/plain": [
       "{'lognorm': {'s': 0.4832784330589472,\n",
       "  'loc': 13.480354258786946,\n",
       "  'scale': 20.252812158195777}}"
      ]
     },
     "execution_count": 14,
     "metadata": {},
     "output_type": "execute_result"
    }
   ],
   "source": [
    "# find the best passing distribution\n",
    "best_passing_dist = p.get_best(method = 'sumsquare_error')\n",
    "best_passing_dist"
   ]
  },
  {
   "cell_type": "code",
   "execution_count": 15,
   "id": "4b856c2d-c5c9-4703-9135-c8e84f94c343",
   "metadata": {},
   "outputs": [
    {
     "name": "stderr",
     "output_type": "stream",
     "text": [
      "Fitting 1 distributions: 100%|██████████| 1/1 [00:00<00:00, 11.26it/s]\n"
     ]
    },
    {
     "data": {
      "text/html": [
       "<div>\n",
       "<style scoped>\n",
       "    .dataframe tbody tr th:only-of-type {\n",
       "        vertical-align: middle;\n",
       "    }\n",
       "\n",
       "    .dataframe tbody tr th {\n",
       "        vertical-align: top;\n",
       "    }\n",
       "\n",
       "    .dataframe thead th {\n",
       "        text-align: right;\n",
       "    }\n",
       "</style>\n",
       "<table border=\"1\" class=\"dataframe\">\n",
       "  <thead>\n",
       "    <tr style=\"text-align: right;\">\n",
       "      <th></th>\n",
       "      <th>sumsquare_error</th>\n",
       "      <th>aic</th>\n",
       "      <th>bic</th>\n",
       "      <th>kl_div</th>\n",
       "      <th>ks_statistic</th>\n",
       "      <th>ks_pvalue</th>\n",
       "    </tr>\n",
       "  </thead>\n",
       "  <tbody>\n",
       "    <tr>\n",
       "      <th>lognorm</th>\n",
       "      <td>0.000411</td>\n",
       "      <td>96.77356</td>\n",
       "      <td>-1509.369992</td>\n",
       "      <td>0.085705</td>\n",
       "      <td>0.063716</td>\n",
       "      <td>0.685521</td>\n",
       "    </tr>\n",
       "  </tbody>\n",
       "</table>\n",
       "</div>"
      ],
      "text/plain": [
       "         sumsquare_error       aic          bic    kl_div  ks_statistic  \\\n",
       "lognorm         0.000411  96.77356 -1509.369992  0.085705      0.063716   \n",
       "\n",
       "         ks_pvalue  \n",
       "lognorm   0.685521  "
      ]
     },
     "execution_count": 15,
     "metadata": {},
     "output_type": "execute_result"
    },
    {
     "data": {
      "image/png": "[encoded data removed]",
      "text/plain": [
       "<Figure size 432x288 with 1 Axes>"
      ]
     },
     "metadata": {
      "needs_background": "light"
     },
     "output_type": "display_data"
    }
   ],
   "source": [
    "p = Fitter(pass_run_duration,\n",
    "           distributions=best_passing_dist, bins =10)\n",
    "p.fit()\n",
    "p.summary()"
   ]
  },
  {
   "cell_type": "code",
   "execution_count": 16,
   "id": "2be0970c-ebf5-4bff-8747-667d2775d705",
   "metadata": {},
   "outputs": [],
   "source": [
    "p_dist = list(best_passing_dist.keys())[0]"
   ]
  },
  {
   "cell_type": "code",
   "execution_count": 17,
   "id": "1652b07c-773e-4a7c-b20c-eae419326178",
   "metadata": {},
   "outputs": [
    {
     "data": {
      "text/plain": [
       "(0.4832784330589472, 13.480354258786946, 20.252812158195777)"
      ]
     },
     "execution_count": 17,
     "metadata": {},
     "output_type": "execute_result"
    }
   ],
   "source": [
    "# Calculate the parameters for the passing distribution curve\n",
    "p_params = p.fitted_param[p_dist]\n",
    "p_params"
   ]
  },
  {
   "cell_type": "code",
   "execution_count": 18,
   "id": "0cf089ad-d2fc-43e6-be45-007fb52b1b1d",
   "metadata": {},
   "outputs": [],
   "source": [
    "### Next steps: Caluculate the OSP "
   ]
  },
  {
   "cell_type": "code",
   "execution_count": 19,
   "id": "419cf981-f769-421f-aaa6-4c3e3314f8e3",
   "metadata": {},
   "outputs": [],
   "source": [
    " #TO-do = change this to new methodology and parameters\n",
    "def optimal_stopping_point(\n",
    "    best_dist,\n",
    "    y_std_failing,\n",
    "    y_failing,\n",
    "    parameters_failing,\n",
    "    y_std_passing,\n",
    "    y_passing,\n",
    "    parameters_passing,\n",
    "):\n",
    "    \"\"\"\n",
    "    This function takes the best_distribution,\n",
    "    failing and passing distributions and parameters\n",
    "    and returns an optimal stopping point for the test.\n",
    "    \"\"\"\n",
    "\n",
    "    dist = getattr(scipy.stats, best_dist)\n",
    "\n",
    "    # Obtain the intersection points between the distribution curves\n",
    "    x, y = intersection(\n",
    "        y_failing,\n",
    "        dist.pdf(\n",
    "            y_std_failing,\n",
    "            parameters_failing[0],\n",
    "            parameters_failing[1],\n",
    "            parameters_failing[2],\n",
    "        ),\n",
    "        y_passing,\n",
    "        dist.pdf(\n",
    "            y_std_passing,\n",
    "            parameters_passing[0],\n",
    "            parameters_passing[1],\n",
    "            parameters_passing[2],\n",
    "        ),\n",
    "    )\n",
    "    osp = max(x)\n",
    "    return osp"
   ]
  }
 ],
 "metadata": {
  "kernelspec": {
   "display_name": "Python 3 (ipykernel)",
   "language": "python",
   "name": "python3"
  },
  "language_info": {
   "codemirror_mode": {
    "name": "ipython",
    "version": 3
   },
   "file_extension": ".py",
   "mimetype": "text/x-python",
   "name": "python",
   "nbconvert_exporter": "python",
   "pygments_lexer": "ipython3",
   "version": "3.8.8"
  }
 },
 "nbformat": 4,
 "nbformat_minor": 5
}
