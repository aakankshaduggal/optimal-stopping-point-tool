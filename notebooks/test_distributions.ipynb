{
 "cells": [
  {
   "cell_type": "markdown",
   "id": "6a045abf-3c6a-4bea-9d89-f0783eeceecd",
   "metadata": {},
   "source": [
    "## Fit distributions on Tests Data"
   ]
  },
  {
   "cell_type": "code",
   "execution_count": 1,
   "id": "bf608b52-fcb7-4fd2-9eee-95b373d2022f",
   "metadata": {},
   "outputs": [],
   "source": [
    "## Import libraries\n",
    "import os\n",
    "import gzip\n",
    "import json\n",
    "import datetime\n",
    "import itertools\n",
    "import pandas as pd\n",
    "import numpy as np\n",
    "import scipy.stats\n",
    "import matplotlib.pyplot as plt\n",
    "\n",
    "import warnings\n",
    "\n",
    "warnings.filterwarnings(\"ignore\")\n",
    "import seaborn as sns\n",
    "from fitter import Fitter, get_common_distributions, get_distributions"
   ]
  },
  {
   "cell_type": "markdown",
   "id": "28448538-e882-408c-b89f-1e3b144c13d2",
   "metadata": {},
   "source": [
    "## Import dataframe"
   ]
  },
  {
   "cell_type": "code",
   "execution_count": 2,
   "id": "e52cd43a-cfbd-472d-a9cc-2e170d87211a",
   "metadata": {},
   "outputs": [],
   "source": [
    "passing_train = pd.read_csv('../data/processed/passing_train.csv')\n",
    "failing_train = pd.read_csv('../data/processed/failing_train.csv')"
   ]
  },
  {
   "cell_type": "code",
   "execution_count": 3,
   "id": "3096433d-c3d5-4583-85be-15138d2936a7",
   "metadata": {},
   "outputs": [
    {
     "data": {
      "text/html": [
       "<div>\n",
       "<style scoped>\n",
       "    .dataframe tbody tr th:only-of-type {\n",
       "        vertical-align: middle;\n",
       "    }\n",
       "\n",
       "    .dataframe tbody tr th {\n",
       "        vertical-align: top;\n",
       "    }\n",
       "\n",
       "    .dataframe thead th {\n",
       "        text-align: right;\n",
       "    }\n",
       "</style>\n",
       "<table border=\"1\" class=\"dataframe\">\n",
       "  <thead>\n",
       "    <tr style=\"text-align: right;\">\n",
       "      <th></th>\n",
       "      <th>Unnamed: 0</th>\n",
       "      <th>created_at</th>\n",
       "      <th>updated_at</th>\n",
       "      <th>run_id</th>\n",
       "      <th>status</th>\n",
       "      <th>conclusion</th>\n",
       "      <th>run_duration</th>\n",
       "      <th>test_id</th>\n",
       "    </tr>\n",
       "  </thead>\n",
       "  <tbody>\n",
       "    <tr>\n",
       "      <th>0</th>\n",
       "      <td>12</td>\n",
       "      <td>2022-12-14T15:46:53Z</td>\n",
       "      <td>2022-12-14T15:47:14Z</td>\n",
       "      <td>3696409364</td>\n",
       "      <td>completed</td>\n",
       "      <td>success</td>\n",
       "      <td>21.0</td>\n",
       "      <td>28698040</td>\n",
       "    </tr>\n",
       "    <tr>\n",
       "      <th>1</th>\n",
       "      <td>19</td>\n",
       "      <td>2022-10-18T22:05:12Z</td>\n",
       "      <td>2022-10-18T22:05:39Z</td>\n",
       "      <td>3277249376</td>\n",
       "      <td>completed</td>\n",
       "      <td>success</td>\n",
       "      <td>27.0</td>\n",
       "      <td>28698040</td>\n",
       "    </tr>\n",
       "    <tr>\n",
       "      <th>2</th>\n",
       "      <td>25</td>\n",
       "      <td>2022-10-13T17:49:42Z</td>\n",
       "      <td>2022-10-13T17:50:28Z</td>\n",
       "      <td>3244532523</td>\n",
       "      <td>completed</td>\n",
       "      <td>success</td>\n",
       "      <td>46.0</td>\n",
       "      <td>28698040</td>\n",
       "    </tr>\n",
       "    <tr>\n",
       "      <th>3</th>\n",
       "      <td>5</td>\n",
       "      <td>2022-07-12T21:11:13Z</td>\n",
       "      <td>2022-07-12T21:11:42Z</td>\n",
       "      <td>2659424327</td>\n",
       "      <td>completed</td>\n",
       "      <td>success</td>\n",
       "      <td>29.0</td>\n",
       "      <td>28698040</td>\n",
       "    </tr>\n",
       "    <tr>\n",
       "      <th>4</th>\n",
       "      <td>22</td>\n",
       "      <td>2022-07-05T15:28:26Z</td>\n",
       "      <td>2022-07-05T15:29:06Z</td>\n",
       "      <td>2617219129</td>\n",
       "      <td>completed</td>\n",
       "      <td>success</td>\n",
       "      <td>40.0</td>\n",
       "      <td>28698040</td>\n",
       "    </tr>\n",
       "  </tbody>\n",
       "</table>\n",
       "</div>"
      ],
      "text/plain": [
       "   Unnamed: 0            created_at            updated_at      run_id  \\\n",
       "0          12  2022-12-14T15:46:53Z  2022-12-14T15:47:14Z  3696409364   \n",
       "1          19  2022-10-18T22:05:12Z  2022-10-18T22:05:39Z  3277249376   \n",
       "2          25  2022-10-13T17:49:42Z  2022-10-13T17:50:28Z  3244532523   \n",
       "3           5  2022-07-12T21:11:13Z  2022-07-12T21:11:42Z  2659424327   \n",
       "4          22  2022-07-05T15:28:26Z  2022-07-05T15:29:06Z  2617219129   \n",
       "\n",
       "      status conclusion  run_duration   test_id  \n",
       "0  completed    success          21.0  28698040  \n",
       "1  completed    success          27.0  28698040  \n",
       "2  completed    success          46.0  28698040  \n",
       "3  completed    success          29.0  28698040  \n",
       "4  completed    success          40.0  28698040  "
      ]
     },
     "execution_count": 3,
     "metadata": {},
     "output_type": "execute_result"
    }
   ],
   "source": [
    "passing_train.head()"
   ]
  },
  {
   "cell_type": "code",
   "execution_count": 4,
   "id": "ca3a6320-c1a4-4691-8541-7368ba71caeb",
   "metadata": {},
   "outputs": [
    {
     "data": {
      "text/html": [
       "<div>\n",
       "<style scoped>\n",
       "    .dataframe tbody tr th:only-of-type {\n",
       "        vertical-align: middle;\n",
       "    }\n",
       "\n",
       "    .dataframe tbody tr th {\n",
       "        vertical-align: top;\n",
       "    }\n",
       "\n",
       "    .dataframe thead th {\n",
       "        text-align: right;\n",
       "    }\n",
       "</style>\n",
       "<table border=\"1\" class=\"dataframe\">\n",
       "  <thead>\n",
       "    <tr style=\"text-align: right;\">\n",
       "      <th></th>\n",
       "      <th>Unnamed: 0</th>\n",
       "      <th>created_at</th>\n",
       "      <th>updated_at</th>\n",
       "      <th>run_id</th>\n",
       "      <th>status</th>\n",
       "      <th>conclusion</th>\n",
       "      <th>run_duration</th>\n",
       "      <th>test_id</th>\n",
       "    </tr>\n",
       "  </thead>\n",
       "  <tbody>\n",
       "    <tr>\n",
       "      <th>0</th>\n",
       "      <td>20</td>\n",
       "      <td>2022-10-10T15:46:57Z</td>\n",
       "      <td>2022-10-10T15:47:54Z</td>\n",
       "      <td>3220628244</td>\n",
       "      <td>completed</td>\n",
       "      <td>failure</td>\n",
       "      <td>57.0</td>\n",
       "      <td>28698040</td>\n",
       "    </tr>\n",
       "    <tr>\n",
       "      <th>1</th>\n",
       "      <td>9</td>\n",
       "      <td>2022-09-01T22:31:42Z</td>\n",
       "      <td>2022-09-01T22:32:36Z</td>\n",
       "      <td>2975376600</td>\n",
       "      <td>completed</td>\n",
       "      <td>failure</td>\n",
       "      <td>54.0</td>\n",
       "      <td>28698040</td>\n",
       "    </tr>\n",
       "    <tr>\n",
       "      <th>2</th>\n",
       "      <td>29</td>\n",
       "      <td>2023-01-12T18:04:21Z</td>\n",
       "      <td>2023-01-12T18:04:59Z</td>\n",
       "      <td>3904825511</td>\n",
       "      <td>completed</td>\n",
       "      <td>failure</td>\n",
       "      <td>38.0</td>\n",
       "      <td>28698040</td>\n",
       "    </tr>\n",
       "    <tr>\n",
       "      <th>3</th>\n",
       "      <td>29</td>\n",
       "      <td>2022-12-01T18:58:49Z</td>\n",
       "      <td>2022-12-01T18:59:25Z</td>\n",
       "      <td>3595655421</td>\n",
       "      <td>completed</td>\n",
       "      <td>failure</td>\n",
       "      <td>36.0</td>\n",
       "      <td>28698040</td>\n",
       "    </tr>\n",
       "    <tr>\n",
       "      <th>4</th>\n",
       "      <td>27</td>\n",
       "      <td>2022-10-07T17:50:17Z</td>\n",
       "      <td>2022-10-07T17:51:07Z</td>\n",
       "      <td>3206656422</td>\n",
       "      <td>completed</td>\n",
       "      <td>failure</td>\n",
       "      <td>50.0</td>\n",
       "      <td>28698040</td>\n",
       "    </tr>\n",
       "  </tbody>\n",
       "</table>\n",
       "</div>"
      ],
      "text/plain": [
       "   Unnamed: 0            created_at            updated_at      run_id  \\\n",
       "0          20  2022-10-10T15:46:57Z  2022-10-10T15:47:54Z  3220628244   \n",
       "1           9  2022-09-01T22:31:42Z  2022-09-01T22:32:36Z  2975376600   \n",
       "2          29  2023-01-12T18:04:21Z  2023-01-12T18:04:59Z  3904825511   \n",
       "3          29  2022-12-01T18:58:49Z  2022-12-01T18:59:25Z  3595655421   \n",
       "4          27  2022-10-07T17:50:17Z  2022-10-07T17:51:07Z  3206656422   \n",
       "\n",
       "      status conclusion  run_duration   test_id  \n",
       "0  completed    failure          57.0  28698040  \n",
       "1  completed    failure          54.0  28698040  \n",
       "2  completed    failure          38.0  28698040  \n",
       "3  completed    failure          36.0  28698040  \n",
       "4  completed    failure          50.0  28698040  "
      ]
     },
     "execution_count": 4,
     "metadata": {},
     "output_type": "execute_result"
    }
   ],
   "source": [
    "failing_train.head()"
   ]
  },
  {
   "cell_type": "code",
   "execution_count": 5,
   "id": "3853ba65-59a3-47cb-b90d-9e1316de67cf",
   "metadata": {},
   "outputs": [
    {
     "data": {
      "text/plain": [
       "<seaborn.axisgrid.FacetGrid at 0x7fef3485aeb0>"
      ]
     },
     "execution_count": 5,
     "metadata": {},
     "output_type": "execute_result"
    },
    {
     "data": {
      "image/png": "[encoded data removed]",
      "text/plain": [
       "<Figure size 1080x360 with 1 Axes>"
      ]
     },
     "metadata": {
      "needs_background": "light"
     },
     "output_type": "display_data"
    }
   ],
   "source": [
    "# Distribution of values of run duration\n",
    "sns.set_style('white')\n",
    "sns.set_context(\"paper\", font_scale = 2)\n",
    "sns.displot(data=failing_train, x=\"run_duration\", kind=\"hist\", bins = 10, aspect = 3)"
   ]
  },
  {
   "cell_type": "code",
   "execution_count": 6,
   "id": "81b01d51-71dc-4c57-bd67-6c2ee896a155",
   "metadata": {},
   "outputs": [],
   "source": [
    "# Since the data here is heavily skewed, hence implementing \n",
    "# log transformation here.\n",
    "failing_train.run_duration = np.log(failing_train.run_duration)"
   ]
  },
  {
   "cell_type": "code",
   "execution_count": 7,
   "id": "ce52b952-9de1-4a17-a938-6130205a88ab",
   "metadata": {},
   "outputs": [
    {
     "data": {
      "text/plain": [
       "<seaborn.axisgrid.FacetGrid at 0x7fef32064670>"
      ]
     },
     "execution_count": 7,
     "metadata": {},
     "output_type": "execute_result"
    },
    {
     "data": {
      "image/png": "[encoded data removed]",
      "text/plain": [
       "<Figure size 1080x360 with 1 Axes>"
      ]
     },
     "metadata": {},
     "output_type": "display_data"
    }
   ],
   "source": [
    "# Distribution of values of failing run duration\n",
    "sns.set_style('white')\n",
    "sns.set_context(\"paper\", font_scale = 2)\n",
    "sns.displot(data=failing_train, x=\"run_duration\", kind=\"hist\", bins = 10, aspect = 3)"
   ]
  },
  {
   "cell_type": "code",
   "execution_count": 8,
   "id": "c29a2aed-3014-474a-8ed1-858f06c0222f",
   "metadata": {},
   "outputs": [],
   "source": [
    "# create a separate set of values for failing durations\n",
    "fail_run_duration = failing_train.run_duration.values"
   ]
  },
  {
   "cell_type": "code",
   "execution_count": 9,
   "id": "efb268d4-8d4d-4606-9aef-5305eaee266c",
   "metadata": {},
   "outputs": [
    {
     "name": "stderr",
     "output_type": "stream",
     "text": [
      "Fitting 110 distributions:   0%|          | 0/110 [00:00<?, ?it/s]SKIPPED _fit distribution (taking more than 30 seconds)\n",
      "Fitting 110 distributions:  46%|████▋     | 51/110 [00:05<00:06,  9.05it/s]SKIPPED kstwo distribution (taking more than 30 seconds)\n",
      "Fitting 110 distributions:  75%|███████▌  | 83/110 [00:13<00:04,  5.88it/s]SKIPPED rv_continuous distribution (taking more than 30 seconds)\n",
      "SKIPPED rv_histogram distribution (taking more than 30 seconds)\n",
      "Fitting 110 distributions:  96%|█████████▋| 106/110 [00:29<00:03,  1.31it/s]SKIPPED recipinvgauss distribution (taking more than 30 seconds)\n",
      "Fitting 110 distributions:  97%|█████████▋| 107/110 [00:42<00:12,  4.31s/it]SKIPPED studentized_range distribution (taking more than 30 seconds)\n",
      "Fitting 110 distributions:  98%|█████████▊| 108/110 [00:43<00:06,  3.37s/it]SKIPPED vonmises distribution (taking more than 30 seconds)\n",
      "Fitting 110 distributions:  99%|█████████▉| 109/110 [00:54<00:05,  5.52s/it]SKIPPED vonmises_line distribution (taking more than 30 seconds)\n",
      "Fitting 110 distributions: 100%|██████████| 110/110 [00:55<00:00,  1.98it/s]\n"
     ]
    },
    {
     "data": {
      "text/html": [
       "<div>\n",
       "<style scoped>\n",
       "    .dataframe tbody tr th:only-of-type {\n",
       "        vertical-align: middle;\n",
       "    }\n",
       "\n",
       "    .dataframe tbody tr th {\n",
       "        vertical-align: top;\n",
       "    }\n",
       "\n",
       "    .dataframe thead th {\n",
       "        text-align: right;\n",
       "    }\n",
       "</style>\n",
       "<table border=\"1\" class=\"dataframe\">\n",
       "  <thead>\n",
       "    <tr style=\"text-align: right;\">\n",
       "      <th></th>\n",
       "      <th>sumsquare_error</th>\n",
       "      <th>aic</th>\n",
       "      <th>bic</th>\n",
       "      <th>kl_div</th>\n",
       "      <th>ks_statistic</th>\n",
       "      <th>ks_pvalue</th>\n",
       "    </tr>\n",
       "  </thead>\n",
       "  <tbody>\n",
       "    <tr>\n",
       "      <th>tukeylambda</th>\n",
       "      <td>0.002575</td>\n",
       "      <td>inf</td>\n",
       "      <td>-1263.838645</td>\n",
       "      <td>0.026234</td>\n",
       "      <td>0.178301</td>\n",
       "      <td>0.000882</td>\n",
       "    </tr>\n",
       "    <tr>\n",
       "      <th>levy_stable</th>\n",
       "      <td>0.005742</td>\n",
       "      <td>487.864155</td>\n",
       "      <td>-1163.637688</td>\n",
       "      <td>inf</td>\n",
       "      <td>0.123998</td>\n",
       "      <td>0.047126</td>\n",
       "    </tr>\n",
       "    <tr>\n",
       "      <th>semicircular</th>\n",
       "      <td>0.009851</td>\n",
       "      <td>inf</td>\n",
       "      <td>-1108.959689</td>\n",
       "      <td>0.026010</td>\n",
       "      <td>0.107664</td>\n",
       "      <td>0.117684</td>\n",
       "    </tr>\n",
       "    <tr>\n",
       "      <th>rdist</th>\n",
       "      <td>0.010874</td>\n",
       "      <td>inf</td>\n",
       "      <td>-1092.423379</td>\n",
       "      <td>0.026388</td>\n",
       "      <td>0.201873</td>\n",
       "      <td>0.000100</td>\n",
       "    </tr>\n",
       "    <tr>\n",
       "      <th>logistic</th>\n",
       "      <td>0.013565</td>\n",
       "      <td>201.700105</td>\n",
       "      <td>-1070.885686</td>\n",
       "      <td>inf</td>\n",
       "      <td>0.111320</td>\n",
       "      <td>0.096973</td>\n",
       "    </tr>\n",
       "  </tbody>\n",
       "</table>\n",
       "</div>"
      ],
      "text/plain": [
       "              sumsquare_error         aic          bic    kl_div  \\\n",
       "tukeylambda          0.002575         inf -1263.838645  0.026234   \n",
       "levy_stable          0.005742  487.864155 -1163.637688       inf   \n",
       "semicircular         0.009851         inf -1108.959689  0.026010   \n",
       "rdist                0.010874         inf -1092.423379  0.026388   \n",
       "logistic             0.013565  201.700105 -1070.885686       inf   \n",
       "\n",
       "              ks_statistic  ks_pvalue  \n",
       "tukeylambda       0.178301   0.000882  \n",
       "levy_stable       0.123998   0.047126  \n",
       "semicircular      0.107664   0.117684  \n",
       "rdist             0.201873   0.000100  \n",
       "logistic          0.111320   0.096973  "
      ]
     },
     "execution_count": 9,
     "metadata": {},
     "output_type": "execute_result"
    },
    {
     "data": {
      "image/png": "[encoded data removed]",
      "text/plain": [
       "<Figure size 432x288 with 1 Axes>"
      ]
     },
     "metadata": {},
     "output_type": "display_data"
    }
   ],
   "source": [
    "f = Fitter(fail_run_duration,\n",
    "           distributions=get_distributions(), bins =10)\n",
    "f.fit()\n",
    "f.summary()"
   ]
  },
  {
   "cell_type": "code",
   "execution_count": 10,
   "id": "a7cfd075-aeef-4fc2-a283-d05b05808ce3",
   "metadata": {},
   "outputs": [
    {
     "data": {
      "text/plain": [
       "{'tukeylambda': {'lam': 1.3621483701266333,\n",
       "  'loc': 3.7552152783749952,\n",
       "  'scale': 0.9680690945551738}}"
      ]
     },
     "execution_count": 10,
     "metadata": {},
     "output_type": "execute_result"
    }
   ],
   "source": [
    "# Find best failing distribution\n",
    "best_failing_dist = f.get_best(method=\"sumsquare_error\")\n",
    "best_failing_dist"
   ]
  },
  {
   "cell_type": "code",
   "execution_count": 11,
   "id": "6bd573a2-6a1c-43ba-b9a5-044c541dd2bc",
   "metadata": {},
   "outputs": [
    {
     "name": "stderr",
     "output_type": "stream",
     "text": [
      "Fitting 1 distributions: 100%|██████████| 1/1 [00:03<00:00,  3.07s/it]\n"
     ]
    },
    {
     "data": {
      "text/html": [
       "<div>\n",
       "<style scoped>\n",
       "    .dataframe tbody tr th:only-of-type {\n",
       "        vertical-align: middle;\n",
       "    }\n",
       "\n",
       "    .dataframe tbody tr th {\n",
       "        vertical-align: top;\n",
       "    }\n",
       "\n",
       "    .dataframe thead th {\n",
       "        text-align: right;\n",
       "    }\n",
       "</style>\n",
       "<table border=\"1\" class=\"dataframe\">\n",
       "  <thead>\n",
       "    <tr style=\"text-align: right;\">\n",
       "      <th></th>\n",
       "      <th>sumsquare_error</th>\n",
       "      <th>aic</th>\n",
       "      <th>bic</th>\n",
       "      <th>kl_div</th>\n",
       "      <th>ks_statistic</th>\n",
       "      <th>ks_pvalue</th>\n",
       "    </tr>\n",
       "  </thead>\n",
       "  <tbody>\n",
       "    <tr>\n",
       "      <th>tukeylambda</th>\n",
       "      <td>0.002575</td>\n",
       "      <td>inf</td>\n",
       "      <td>-1263.838645</td>\n",
       "      <td>0.026234</td>\n",
       "      <td>0.178301</td>\n",
       "      <td>0.000882</td>\n",
       "    </tr>\n",
       "  </tbody>\n",
       "</table>\n",
       "</div>"
      ],
      "text/plain": [
       "             sumsquare_error  aic          bic    kl_div  ks_statistic  \\\n",
       "tukeylambda         0.002575  inf -1263.838645  0.026234      0.178301   \n",
       "\n",
       "             ks_pvalue  \n",
       "tukeylambda   0.000882  "
      ]
     },
     "execution_count": 11,
     "metadata": {},
     "output_type": "execute_result"
    },
    {
     "data": {
      "image/png": "[encoded data removed]",
      "text/plain": [
       "<Figure size 432x288 with 1 Axes>"
      ]
     },
     "metadata": {},
     "output_type": "display_data"
    }
   ],
   "source": [
    "f = Fitter(fail_run_duration,\n",
    "           distributions=best_failing_dist, bins =10)\n",
    "f.fit()\n",
    "f.summary()"
   ]
  },
  {
   "cell_type": "code",
   "execution_count": 12,
   "id": "65b0b38a-b20f-4da1-a5a5-4c332b43026c",
   "metadata": {},
   "outputs": [],
   "source": [
    "f_dist = list(best_failing_dist.keys())[0]"
   ]
  },
  {
   "cell_type": "code",
   "execution_count": 13,
   "id": "ddc0361c-ee21-433e-a5f5-afb8c4e94e7f",
   "metadata": {},
   "outputs": [
    {
     "data": {
      "text/plain": [
       "(1.3621483701266333, 3.7552152783749952, 0.9680690945551738)"
      ]
     },
     "execution_count": 13,
     "metadata": {},
     "output_type": "execute_result"
    }
   ],
   "source": [
    "# Calculate the parameters for the failing distribution curve\n",
    "f_params = f.fitted_param[f_dist]\n",
    "f_params"
   ]
  },
  {
   "cell_type": "code",
   "execution_count": 14,
   "id": "6169a4a8-1b5d-4a70-bcfe-e1005c2b6379",
   "metadata": {},
   "outputs": [
    {
     "data": {
      "text/plain": [
       "array([21., 27., 46., 29., 40., 48., 38., 35., 29., 30., 28., 23., 28.,\n",
       "       54., 34., 34., 41., 43., 29., 31., 53., 33., 28., 30., 39., 22.,\n",
       "       36., 28., 67., 41., 42., 31., 24., 29., 37., 22., 24., 38., 64.,\n",
       "       55., 28., 23., 28., 42., 34., 74., 49., 37., 51., 41., 29., 21.,\n",
       "       22., 32., 42., 21., 33., 39., 38., 67., 27., 34., 21., 34., 39.,\n",
       "       39., 40., 61., 33., 34., 30., 43., 59., 34., 36., 38., 41., 40.,\n",
       "       42., 23., 33., 30., 29., 25., 33., 36., 34., 24., 55., 23., 37.,\n",
       "       32., 22., 39., 62., 27.])"
      ]
     },
     "execution_count": 14,
     "metadata": {},
     "output_type": "execute_result"
    }
   ],
   "source": [
    "# create a separate set of values for the passing run times.\n",
    "pass_run_duration = passing_train.run_duration.values\n",
    "pass_run_duration"
   ]
  },
  {
   "cell_type": "code",
   "execution_count": 15,
   "id": "73fc7007-2d43-40f7-9cc0-c92d8390ba50",
   "metadata": {},
   "outputs": [
    {
     "data": {
      "text/plain": [
       "<seaborn.axisgrid.FacetGrid at 0x7fef320d0400>"
      ]
     },
     "execution_count": 15,
     "metadata": {},
     "output_type": "execute_result"
    },
    {
     "data": {
      "image/png": "[encoded data removed]",
      "text/plain": [
       "<Figure size 1080x360 with 1 Axes>"
      ]
     },
     "metadata": {},
     "output_type": "display_data"
    }
   ],
   "source": [
    "# Distribution of values of passing run duration\n",
    "sns.set_style('white')\n",
    "sns.set_context(\"paper\", font_scale = 2)\n",
    "sns.displot(data=passing_train, x=\"run_duration\", kind=\"hist\", bins = 10, aspect = 3)"
   ]
  },
  {
   "cell_type": "code",
   "execution_count": 16,
   "id": "9fc9708d-730e-4cb7-b13f-f13aa2f9ffc0",
   "metadata": {},
   "outputs": [
    {
     "name": "stderr",
     "output_type": "stream",
     "text": [
      "Fitting 110 distributions:   0%|          | 0/110 [00:00<?, ?it/s]SKIPPED _fit distribution (taking more than 30 seconds)\n",
      "Fitting 110 distributions:  45%|████▌     | 50/110 [00:19<00:24,  2.48it/s]SKIPPED kstwo distribution (taking more than 30 seconds)\n",
      "Fitting 110 distributions:  75%|███████▍  | 82/110 [00:44<00:23,  1.22it/s]SKIPPED rv_continuous distribution (taking more than 30 seconds)\n",
      "Fitting 110 distributions:  75%|███████▌  | 83/110 [00:44<00:17,  1.57it/s]SKIPPED rv_histogram distribution (taking more than 30 seconds)\n",
      "Fitting 110 distributions:  83%|████████▎ | 91/110 [00:52<00:33,  1.75s/it]SKIPPED levy_stable distribution (taking more than 30 seconds)\n",
      "Fitting 110 distributions:  94%|█████████▎| 103/110 [01:10<00:12,  1.78s/it]SKIPPED recipinvgauss distribution (taking more than 30 seconds)\n",
      "Fitting 110 distributions:  97%|█████████▋| 107/110 [01:15<00:03,  1.11s/it]SKIPPED studentized_range distribution (taking more than 30 seconds)\n",
      "Fitting 110 distributions:  98%|█████████▊| 108/110 [01:15<00:02,  1.00s/it]SKIPPED vonmises distribution (taking more than 30 seconds)\n",
      "Fitting 110 distributions:  99%|█████████▉| 109/110 [01:33<00:05,  5.97s/it]SKIPPED vonmises_line distribution (taking more than 30 seconds)\n",
      "Fitting 110 distributions: 100%|██████████| 110/110 [01:34<00:00,  1.16it/s]\n"
     ]
    },
    {
     "data": {
      "text/html": [
       "<div>\n",
       "<style scoped>\n",
       "    .dataframe tbody tr th:only-of-type {\n",
       "        vertical-align: middle;\n",
       "    }\n",
       "\n",
       "    .dataframe tbody tr th {\n",
       "        vertical-align: top;\n",
       "    }\n",
       "\n",
       "    .dataframe thead th {\n",
       "        text-align: right;\n",
       "    }\n",
       "</style>\n",
       "<table border=\"1\" class=\"dataframe\">\n",
       "  <thead>\n",
       "    <tr style=\"text-align: right;\">\n",
       "      <th></th>\n",
       "      <th>sumsquare_error</th>\n",
       "      <th>aic</th>\n",
       "      <th>bic</th>\n",
       "      <th>kl_div</th>\n",
       "      <th>ks_statistic</th>\n",
       "      <th>ks_pvalue</th>\n",
       "    </tr>\n",
       "  </thead>\n",
       "  <tbody>\n",
       "    <tr>\n",
       "      <th>ncf</th>\n",
       "      <td>0.000500</td>\n",
       "      <td>101.323887</td>\n",
       "      <td>-1144.990283</td>\n",
       "      <td>0.094049</td>\n",
       "      <td>0.068344</td>\n",
       "      <td>0.734795</td>\n",
       "    </tr>\n",
       "    <tr>\n",
       "      <th>betaprime</th>\n",
       "      <td>0.000500</td>\n",
       "      <td>99.457792</td>\n",
       "      <td>-1149.530667</td>\n",
       "      <td>0.095022</td>\n",
       "      <td>0.067572</td>\n",
       "      <td>0.747187</td>\n",
       "    </tr>\n",
       "    <tr>\n",
       "      <th>genlogistic</th>\n",
       "      <td>0.000502</td>\n",
       "      <td>97.940687</td>\n",
       "      <td>-1153.772166</td>\n",
       "      <td>0.096430</td>\n",
       "      <td>0.062110</td>\n",
       "      <td>0.830219</td>\n",
       "    </tr>\n",
       "    <tr>\n",
       "      <th>alpha</th>\n",
       "      <td>0.000502</td>\n",
       "      <td>97.441109</td>\n",
       "      <td>-1153.749685</td>\n",
       "      <td>0.084024</td>\n",
       "      <td>0.061447</td>\n",
       "      <td>0.839552</td>\n",
       "    </tr>\n",
       "    <tr>\n",
       "      <th>gumbel_r</th>\n",
       "      <td>0.000503</td>\n",
       "      <td>95.900055</td>\n",
       "      <td>-1158.160557</td>\n",
       "      <td>0.096619</td>\n",
       "      <td>0.062781</td>\n",
       "      <td>0.820578</td>\n",
       "    </tr>\n",
       "  </tbody>\n",
       "</table>\n",
       "</div>"
      ],
      "text/plain": [
       "             sumsquare_error         aic          bic    kl_div  ks_statistic  \\\n",
       "ncf                 0.000500  101.323887 -1144.990283  0.094049      0.068344   \n",
       "betaprime           0.000500   99.457792 -1149.530667  0.095022      0.067572   \n",
       "genlogistic         0.000502   97.940687 -1153.772166  0.096430      0.062110   \n",
       "alpha               0.000502   97.441109 -1153.749685  0.084024      0.061447   \n",
       "gumbel_r            0.000503   95.900055 -1158.160557  0.096619      0.062781   \n",
       "\n",
       "             ks_pvalue  \n",
       "ncf           0.734795  \n",
       "betaprime     0.747187  \n",
       "genlogistic   0.830219  \n",
       "alpha         0.839552  \n",
       "gumbel_r      0.820578  "
      ]
     },
     "execution_count": 16,
     "metadata": {},
     "output_type": "execute_result"
    },
    {
     "data": {
      "image/png": "[encoded data removed]",
      "text/plain": [
       "<Figure size 432x288 with 1 Axes>"
      ]
     },
     "metadata": {},
     "output_type": "display_data"
    }
   ],
   "source": [
    "p = Fitter(pass_run_duration,\n",
    "           distributions=get_distributions(), bins =10)\n",
    "p.fit()\n",
    "p.summary()"
   ]
  },
  {
   "cell_type": "code",
   "execution_count": 17,
   "id": "a3360ff3-eebc-47e9-9596-a2ce46d7cba7",
   "metadata": {},
   "outputs": [
    {
     "data": {
      "text/plain": [
       "{'ncf': {'dfn': 454.8847888383016,\n",
       "  'dfd': 26.747019382412518,\n",
       "  'nc': 0.0009900107446784052,\n",
       "  'loc': -0.8489346701112037,\n",
       "  'scale': 34.20614799755116}}"
      ]
     },
     "execution_count": 17,
     "metadata": {},
     "output_type": "execute_result"
    }
   ],
   "source": [
    "# find the best passing distribution\n",
    "best_passing_dist = p.get_best(method=\"sumsquare_error\")\n",
    "best_passing_dist"
   ]
  },
  {
   "cell_type": "code",
   "execution_count": 18,
   "id": "4b856c2d-c5c9-4703-9135-c8e84f94c343",
   "metadata": {},
   "outputs": [
    {
     "name": "stderr",
     "output_type": "stream",
     "text": [
      "Fitting 1 distributions: 100%|██████████| 1/1 [00:05<00:00,  5.65s/it]\n"
     ]
    },
    {
     "data": {
      "text/html": [
       "<div>\n",
       "<style scoped>\n",
       "    .dataframe tbody tr th:only-of-type {\n",
       "        vertical-align: middle;\n",
       "    }\n",
       "\n",
       "    .dataframe tbody tr th {\n",
       "        vertical-align: top;\n",
       "    }\n",
       "\n",
       "    .dataframe thead th {\n",
       "        text-align: right;\n",
       "    }\n",
       "</style>\n",
       "<table border=\"1\" class=\"dataframe\">\n",
       "  <thead>\n",
       "    <tr style=\"text-align: right;\">\n",
       "      <th></th>\n",
       "      <th>sumsquare_error</th>\n",
       "      <th>aic</th>\n",
       "      <th>bic</th>\n",
       "      <th>kl_div</th>\n",
       "      <th>ks_statistic</th>\n",
       "      <th>ks_pvalue</th>\n",
       "    </tr>\n",
       "  </thead>\n",
       "  <tbody>\n",
       "    <tr>\n",
       "      <th>ncf</th>\n",
       "      <td>0.0005</td>\n",
       "      <td>101.323887</td>\n",
       "      <td>-1144.990283</td>\n",
       "      <td>0.094049</td>\n",
       "      <td>0.068344</td>\n",
       "      <td>0.734795</td>\n",
       "    </tr>\n",
       "  </tbody>\n",
       "</table>\n",
       "</div>"
      ],
      "text/plain": [
       "     sumsquare_error         aic          bic    kl_div  ks_statistic  \\\n",
       "ncf           0.0005  101.323887 -1144.990283  0.094049      0.068344   \n",
       "\n",
       "     ks_pvalue  \n",
       "ncf   0.734795  "
      ]
     },
     "execution_count": 18,
     "metadata": {},
     "output_type": "execute_result"
    },
    {
     "data": {
      "image/png": "[encoded data removed]",
      "text/plain": [
       "<Figure size 432x288 with 1 Axes>"
      ]
     },
     "metadata": {},
     "output_type": "display_data"
    }
   ],
   "source": [
    "p = Fitter(pass_run_duration,\n",
    "           distributions=best_passing_dist, bins =10)\n",
    "p.fit()\n",
    "p.summary()"
   ]
  },
  {
   "cell_type": "code",
   "execution_count": null,
   "id": "8539185c-de22-4bfd-b90b-a502e280f254",
   "metadata": {},
   "outputs": [],
   "source": []
  },
  {
   "cell_type": "code",
   "execution_count": 19,
   "id": "2be0970c-ebf5-4bff-8747-667d2775d705",
   "metadata": {},
   "outputs": [],
   "source": [
    "p_dist = list(best_passing_dist.keys())[0]"
   ]
  },
  {
   "cell_type": "code",
   "execution_count": 20,
   "id": "1652b07c-773e-4a7c-b20c-eae419326178",
   "metadata": {},
   "outputs": [
    {
     "data": {
      "text/plain": [
       "(454.8847888383016,\n",
       " 26.747019382412518,\n",
       " 0.0009900107446784052,\n",
       " -0.8489346701112037,\n",
       " 34.20614799755116)"
      ]
     },
     "execution_count": 20,
     "metadata": {},
     "output_type": "execute_result"
    }
   ],
   "source": [
    "# Calculate the parameters for the passing distribution curve\n",
    "p_params = p.fitted_param[p_dist]\n",
    "p_params"
   ]
  },
  {
   "cell_type": "markdown",
   "id": "b95dafbb-55f5-4886-ba3e-d1bca98e34c9",
   "metadata": {},
   "source": [
    "## Caluculate the OSP "
   ]
  },
  {
   "cell_type": "code",
   "execution_count": 21,
   "id": "2062bb69-670c-47ed-9b01-26256efe66a9",
   "metadata": {},
   "outputs": [
    {
     "data": {
      "text/plain": [
       "array([21.        , 21.55789474, 22.11578947, 22.67368421, 23.23157895,\n",
       "       23.78947368, 24.34736842, 24.90526316, 25.46315789, 26.02105263,\n",
       "       26.57894737, 27.13684211, 27.69473684, 28.25263158, 28.81052632,\n",
       "       29.36842105, 29.92631579, 30.48421053, 31.04210526, 31.6       ,\n",
       "       32.15789474, 32.71578947, 33.27368421, 33.83157895, 34.38947368,\n",
       "       34.94736842, 35.50526316, 36.06315789, 36.62105263, 37.17894737,\n",
       "       37.73684211, 38.29473684, 38.85263158, 39.41052632, 39.96842105,\n",
       "       40.52631579, 41.08421053, 41.64210526, 42.2       , 42.75789474,\n",
       "       43.31578947, 43.87368421, 44.43157895, 44.98947368, 45.54736842,\n",
       "       46.10526316, 46.66315789, 47.22105263, 47.77894737, 48.33684211,\n",
       "       48.89473684, 49.45263158, 50.01052632, 50.56842105, 51.12631579,\n",
       "       51.68421053, 52.24210526, 52.8       , 53.35789474, 53.91578947,\n",
       "       54.47368421, 55.03157895, 55.58947368, 56.14736842, 56.70526316,\n",
       "       57.26315789, 57.82105263, 58.37894737, 58.93684211, 59.49473684,\n",
       "       60.05263158, 60.61052632, 61.16842105, 61.72631579, 62.28421053,\n",
       "       62.84210526, 63.4       , 63.95789474, 64.51578947, 65.07368421,\n",
       "       65.63157895, 66.18947368, 66.74736842, 67.30526316, 67.86315789,\n",
       "       68.42105263, 68.97894737, 69.53684211, 70.09473684, 70.65263158,\n",
       "       71.21052632, 71.76842105, 72.32631579, 72.88421053, 73.44210526,\n",
       "       74.        ])"
      ]
     },
     "execution_count": 21,
     "metadata": {},
     "output_type": "execute_result"
    }
   ],
   "source": [
    "x_passing = np.linspace(pass_run_duration.min(), pass_run_duration.max(), num = len(pass_run_duration))\n",
    "x_passing"
   ]
  },
  {
   "cell_type": "code",
   "execution_count": 22,
   "id": "7ec697ef-7c2b-4901-9cdc-ba0c6f88f8d1",
   "metadata": {},
   "outputs": [
    {
     "data": {
      "text/plain": [
       "array([3.04452244, 3.10336051, 3.16219858, 3.22103666, 3.27987473,\n",
       "       3.3387128 , 3.39755087, 3.45638895, 3.51522702, 3.57406509,\n",
       "       3.63290316, 3.69174124, 3.75057931, 3.80941738, 3.86825546,\n",
       "       3.92709353, 3.9859316 , 4.04476967, 4.10360775, 4.16244582,\n",
       "       4.22128389, 4.28012196, 4.33896004, 4.39779811, 4.45663618,\n",
       "       4.51547425, 4.57431233, 4.6331504 , 4.69198847, 4.75082655,\n",
       "       4.80966462, 4.86850269, 4.92734076, 4.98617884, 5.04501691,\n",
       "       5.10385498, 5.16269305, 5.22153113, 5.2803692 , 5.33920727,\n",
       "       5.39804534, 5.45688342, 5.51572149, 5.57455956, 5.63339764,\n",
       "       5.69223571, 5.75107378, 5.80991185, 5.86874993, 5.927588  ,\n",
       "       5.98642607, 6.04526414, 6.10410222, 6.16294029, 6.22177836,\n",
       "       6.28061643, 6.33945451, 6.39829258, 6.45713065, 6.51596873,\n",
       "       6.5748068 , 6.63364487, 6.69248294, 6.75132102, 6.81015909,\n",
       "       6.86899716, 6.92783523, 6.98667331, 7.04551138, 7.10434945,\n",
       "       7.16318752, 7.2220256 , 7.28086367, 7.33970174, 7.39853982,\n",
       "       7.45737789, 7.51621596, 7.57505403, 7.63389211, 7.69273018,\n",
       "       7.75156825, 7.81040632, 7.8692444 , 7.92808247, 7.98692054,\n",
       "       8.04575861, 8.10459669, 8.16343476, 8.22227283, 8.28111091,\n",
       "       8.33994898, 8.39878705, 8.45762512, 8.5164632 , 8.57530127,\n",
       "       8.63413934, 8.69297741, 8.75181549, 8.81065356, 8.86949163,\n",
       "       8.9283297 , 8.98716778, 9.04600585, 9.10484392, 9.163682  ,\n",
       "       9.22252007, 9.28135814, 9.34019621, 9.39903429, 9.45787236,\n",
       "       9.51671043, 9.5755485 , 9.63438658, 9.69322465, 9.75206272,\n",
       "       9.81090079, 9.86973887, 9.92857694, 9.98741501])"
      ]
     },
     "execution_count": 22,
     "metadata": {},
     "output_type": "execute_result"
    }
   ],
   "source": [
    "x_failing = np.linspace(fail_run_duration.min(), fail_run_duration.max(), num = len(fail_run_duration))\n",
    "x_failing"
   ]
  },
  {
   "cell_type": "code",
   "execution_count": 23,
   "id": "24b4468a-e567-43be-acd6-34bb3803808b",
   "metadata": {},
   "outputs": [],
   "source": [
    "f_params_list = list(best_failing_dist.values())[0]"
   ]
  },
  {
   "cell_type": "code",
   "execution_count": 24,
   "id": "99c9e0ba-c0da-4508-aa4f-251942d40e42",
   "metadata": {},
   "outputs": [],
   "source": [
    "failing_distribution_object = getattr(scipy.stats, f_dist)"
   ]
  },
  {
   "cell_type": "code",
   "execution_count": 25,
   "id": "c58bf63f-5bc6-44e2-b1f4-6934c336e45f",
   "metadata": {},
   "outputs": [],
   "source": [
    "best_f_fit_distribution = failing_distribution_object(**f_params_list)"
   ]
  },
  {
   "cell_type": "code",
   "execution_count": 26,
   "id": "9a64a1c1-6b8b-4c2c-a52d-5635690ff77c",
   "metadata": {},
   "outputs": [],
   "source": [
    "passing_distribution_object = getattr(scipy.stats, p_dist)"
   ]
  },
  {
   "cell_type": "code",
   "execution_count": 27,
   "id": "cc5afea4-6136-4cb5-bf25-6c81137ca9bb",
   "metadata": {},
   "outputs": [],
   "source": [
    "p_param_list = list(best_passing_dist.values())[0]"
   ]
  },
  {
   "cell_type": "code",
   "execution_count": 28,
   "id": "e4e4f819-eb22-4965-8447-0464f1e5b239",
   "metadata": {},
   "outputs": [],
   "source": [
    "best_p_fit_distribution = passing_distribution_object(**p_param_list)"
   ]
  },
  {
   "cell_type": "code",
   "execution_count": 29,
   "id": "52d1bb07-f8b1-4f4e-b52c-7336318e92eb",
   "metadata": {},
   "outputs": [],
   "source": [
    "std_failing =  np.std(fail_run_duration)\n",
    "x_std_failing = (x_failing - np.mean(fail_run_duration)) / std_failing\n",
    "std_passing = np.std(pass_run_duration)\n",
    "x_std_passing = (x_passing - np.mean(pass_run_duration)) / std_passing"
   ]
  },
  {
   "cell_type": "code",
   "execution_count": 30,
   "id": "f44917ab-5db5-4bcb-8902-a3e144e50dea",
   "metadata": {},
   "outputs": [],
   "source": [
    "y1 = best_f_fit_distribution.pdf(fail_run_duration)\n",
    "y2 = best_p_fit_distribution.pdf(pass_run_duration)"
   ]
  },
  {
   "cell_type": "code",
   "execution_count": 31,
   "id": "62409d60-c352-47b1-b50b-b60e11c06c48",
   "metadata": {},
   "outputs": [
    {
     "data": {
      "image/png": "[encoded data removed]",
      "text/plain": [
       "<Figure size 432x288 with 1 Axes>"
      ]
     },
     "metadata": {},
     "output_type": "display_data"
    }
   ],
   "source": [
    "plt.plot(x_std_failing, y1, label='Fitted failing PDF')\n",
    "plt.plot(x_std_passing, y2, label='Fitted passing PDF')\n",
    "plt.legend()\n",
    "plt.show()"
   ]
  },
  {
   "cell_type": "code",
   "execution_count": 32,
   "id": "84e8bacb-c585-49ba-8d3a-ccb0215743b0",
   "metadata": {},
   "outputs": [],
   "source": [
    "from intersect import intersection\n",
    "# Obtain the intersection points between the distribution curves\n",
    "x, y = intersection(x_std_failing,y1,x_std_passing,y2)"
   ]
  },
  {
   "cell_type": "code",
   "execution_count": 33,
   "id": "08dc48d7-cd5f-485b-9eba-b6de28fbcc2a",
   "metadata": {},
   "outputs": [
    {
     "data": {
      "text/plain": [
       "2.4786435764723356"
      ]
     },
     "execution_count": 33,
     "metadata": {},
     "output_type": "execute_result"
    }
   ],
   "source": [
    "osp = max(x)\n",
    "osp"
   ]
  }
 ],
 "metadata": {
  "kernelspec": {
   "display_name": "Python 3 (ipykernel)",
   "language": "python",
   "name": "python3"
  },
  "language_info": {
   "codemirror_mode": {
    "name": "ipython",
    "version": 3
   },
   "file_extension": ".py",
   "mimetype": "text/x-python",
   "name": "python",
   "nbconvert_exporter": "python",
   "pygments_lexer": "ipython3",
   "version": "3.8.8"
  }
 },
 "nbformat": 4,
 "nbformat_minor": 5
}
